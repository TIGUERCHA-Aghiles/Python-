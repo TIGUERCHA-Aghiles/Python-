{
  "nbformat": 4,
  "nbformat_minor": 0,
  "metadata": {
    "colab": {
      "name": "checkpoints2.ipynb",
      "provenance": [],
      "collapsed_sections": []
    },
    "kernelspec": {
      "name": "python3",
      "display_name": "Python 3"
    }
  },
  "cells": [
    {
      "cell_type": "markdown",
      "metadata": {
        "id": "_tlF_aygGGfu"
      },
      "source": [
        "#Exercice01\n",
        "Écrivez un programme qui trouvera tous ces nombres qui sont divisibles par 7 mais ne sont pas un multiple de 5, entre 2000 et 3200 (tous deux inclus). Les nombres obtenus doivent être imprimés dans une liste.\n",
        "\n",
        "Conseils: envisagez d'utiliser la méthode range (#begin, #end) "
      ]
    },
    {
      "cell_type": "code",
      "metadata": {
        "colab": {
          "base_uri": "https://localhost:8080/"
        },
        "id": "Ccm-58m5BpuG",
        "outputId": "721f122a-8c7c-4adc-cdf9-ea2f06304918"
      },
      "source": [
        "MyList = []\n",
        "for i in range(2000,3200):\n",
        "  if i%7 == 0 and i%5 != 0:\n",
        "    MyList.append(i)\n",
        "\n",
        "print(MyList)"
      ],
      "execution_count": null,
      "outputs": [
        {
          "output_type": "stream",
          "text": [
            "[2002, 2009, 2016, 2023, 2037, 2044, 2051, 2058, 2072, 2079, 2086, 2093, 2107, 2114, 2121, 2128, 2142, 2149, 2156, 2163, 2177, 2184, 2191, 2198, 2212, 2219, 2226, 2233, 2247, 2254, 2261, 2268, 2282, 2289, 2296, 2303, 2317, 2324, 2331, 2338, 2352, 2359, 2366, 2373, 2387, 2394, 2401, 2408, 2422, 2429, 2436, 2443, 2457, 2464, 2471, 2478, 2492, 2499, 2506, 2513, 2527, 2534, 2541, 2548, 2562, 2569, 2576, 2583, 2597, 2604, 2611, 2618, 2632, 2639, 2646, 2653, 2667, 2674, 2681, 2688, 2702, 2709, 2716, 2723, 2737, 2744, 2751, 2758, 2772, 2779, 2786, 2793, 2807, 2814, 2821, 2828, 2842, 2849, 2856, 2863, 2877, 2884, 2891, 2898, 2912, 2919, 2926, 2933, 2947, 2954, 2961, 2968, 2982, 2989, 2996, 3003, 3017, 3024, 3031, 3038, 3052, 3059, 3066, 3073, 3087, 3094, 3101, 3108, 3122, 3129, 3136, 3143, 3157, 3164, 3171, 3178, 3192, 3199]\n"
          ],
          "name": "stdout"
        }
      ]
    },
    {
      "cell_type": "markdown",
      "metadata": {
        "id": "0eYQ4IWbGcEp"
      },
      "source": [
        "#Exercice02\n",
        " Écrivez un programme qui peut calculer la factorielle d'un nombre donné. (la factorielle de n est le produit de tous les nombres entiers positifs inférieurs ou égaux à n). par exemple factoriel (5) = 5 x 4 x 3 x 2 x 1 le résultat est 120. (ie factoriel (0) = 1)"
      ]
    },
    {
      "cell_type": "code",
      "metadata": {
        "colab": {
          "base_uri": "https://localhost:8080/"
        },
        "id": "QZk7Xk46GmOc",
        "outputId": "7f137c1a-8ffc-45d0-99e4-1aebc10e6933"
      },
      "source": [
        "nbr = 5\n",
        "fact = 1\n",
        "for i in range(1, nbr+1):\n",
        "  fact = fact * i \n",
        "print(nbr,'! = ',fact)"
      ],
      "execution_count": null,
      "outputs": [
        {
          "output_type": "stream",
          "text": [
            "5 ! =  120\n"
          ],
          "name": "stdout"
        }
      ]
    },
    {
      "cell_type": "markdown",
      "metadata": {
        "id": "c85fFez7VSq_"
      },
      "source": [
        "#Exercice03\n",
        "Avec un nombre entier donné n, écrivez un programme pour générer un dictionnaire contenant (i, i * i) tel qu'un nombre entier compris entre 1 et n (tous deux inclus). puis le programme doit imprimer le dictionnaire. Supposons que l'entrée suivante soit fournie au programme: 8 Ensuite, la sortie doit être: {1: 1, 2: 4, 3: 9, 4: 16, 5: 25, 6: 36, 7: 49, 8: 64 }  "
      ]
    },
    {
      "cell_type": "code",
      "metadata": {
        "colab": {
          "base_uri": "https://localhost:8080/"
        },
        "id": "cSJD8bPzVZbS",
        "outputId": "2014967c-ae2c-4d7b-b001-326acf6df310"
      },
      "source": [
        "for i in range(1, 9):\n",
        "  MyDict[i]=i*i\n",
        "MyDict"
      ],
      "execution_count": null,
      "outputs": [
        {
          "output_type": "execute_result",
          "data": {
            "text/plain": [
              "{1: 1, 2: 4, 3: 9, 4: 16, 5: 25, 6: 36, 7: 49, 8: 64}"
            ]
          },
          "metadata": {
            "tags": []
          },
          "execution_count": 89
        }
      ]
    },
    {
      "cell_type": "markdown",
      "metadata": {
        "id": "Po9JmWLSfeuI"
      },
      "source": [
        "#Exercice04\n",
        "Étant donné une chaîne non vide et un int n, retourne une nouvelle chaîne où le caractère à l'index n a été supprimé. La valeur de n sera un index valide d'un caractère dans la chaîne d'origine (c'est-à-dire que n sera dans la plage 0..len (str) -1 inclus). \n",
        "\n",
        "missing_char ('kitten', 1) → 'ktten' par exemple ici on supprime \"i\" qui se trouve dans l'index 1\n",
        "\n",
        "missing_char ('chaton', 0) → 'itten' ici on supprime \"k\" qui est dans l'index 0\n",
        "\n",
        "missing_char ('chaton', 4) → 'kittn' ici on supprime \"e\" qui est dans l'index 4"
      ]
    },
    {
      "cell_type": "code",
      "metadata": {
        "colab": {
          "base_uri": "https://localhost:8080/"
        },
        "id": "hvWJgI6sfodR",
        "outputId": "24230b16-3028-441b-c74c-751f2eeb6723"
      },
      "source": [
        "def missing_char(x,y) :\n",
        "    s=x.replace(x[y],\"\")\n",
        "    print (s)\n",
        "\n",
        "x = 'kitten'\n",
        "y = int(input(\"indiquer l'index de lettre a supprimer : \"))\n",
        "\n",
        "if y < len(x):\n",
        "  missing_char(x,y)\n",
        "else:\n",
        "  print(\"l'index indiquer est plus grand que la chaine\")"
      ],
      "execution_count": null,
      "outputs": [
        {
          "output_type": "stream",
          "text": [
            "indiquer l'index de lettre a supprimer : 4\n",
            "kittn\n"
          ],
          "name": "stdout"
        }
      ]
    },
    {
      "cell_type": "markdown",
      "metadata": {
        "id": "oyz_JL9pDeOe"
      },
      "source": [
        "#Exercice05\n",
        "Ecrivez un programme NumPy pour convertir un tableau NumPy en une structure de liste Python.\n",
        "\n",
        "Production attendue: \n",
        "\n",
        "Éléments du tableau d'origine: [[0 1] [2 3] [4 5]] \n",
        "\n",
        "Tableau à répertorier: [[0, 1], [2, 3], [4, 5]] \n",
        " \n",
        "\n",
        "Astuce: nous pouvons utiliser la fonction to_list () pour assurer la conversion"
      ]
    },
    {
      "cell_type": "code",
      "metadata": {
        "id": "aI4Qoq5KDp6G",
        "colab": {
          "base_uri": "https://localhost:8080/"
        },
        "outputId": "d2264ea1-3e7e-4284-8c57-3cdf9b4d0730"
      },
      "source": [
        "import numpy as np\n",
        "arr = np.array([[0, 1], [2, 3], [4, 5]])\n",
        "print(arr)\n",
        "\n",
        "def to_list():\n",
        "  MyList = arr.tolist()\n",
        "  return(MyList)\n",
        "  \n",
        "to_list()"
      ],
      "execution_count": null,
      "outputs": [
        {
          "output_type": "stream",
          "text": [
            "[[0 1]\n",
            " [2 3]\n",
            " [4 5]]\n"
          ],
          "name": "stdout"
        },
        {
          "output_type": "execute_result",
          "data": {
            "text/plain": [
              "[[0, 1], [2, 3], [4, 5]]"
            ]
          },
          "metadata": {
            "tags": []
          },
          "execution_count": 39
        }
      ]
    },
    {
      "cell_type": "markdown",
      "metadata": {
        "id": "4PYq6-8CAWD9"
      },
      "source": [
        "#Exercice06\n",
        "Ecrivez un programme NumPy pour calculer la matrice de covariance de deux tableaux donnés. \n",
        "\n",
        "Tableau original1: [0 1 2] \n",
        "\n",
        "Tableau original2: [2 1 0] \n",
        "\n",
        "Matrice de covariance desdits tableaux: [[1. -1.] [-1. 1.]]\n",
        " \n",
        "\n",
        "Astuce: nous pouvons utiliser la fonction np.cov () pour calculer la covariance entre ces deux tableaux"
      ]
    },
    {
      "cell_type": "code",
      "metadata": {
        "colab": {
          "base_uri": "https://localhost:8080/"
        },
        "id": "E34skU1gAgaO",
        "outputId": "3b9d030c-076b-4a12-b224-b538ad0497ee"
      },
      "source": [
        "import numpy as np\n",
        "arr1 = np.array([0, 1, 2])\n",
        "arr2 = np.array([2, 1, 0])\n",
        "\n",
        "def conv(x,y):\n",
        "  mat = np.cov(x,y)\n",
        "  print(mat)\n",
        "\n",
        "conv(arr1,arr2)"
      ],
      "execution_count": null,
      "outputs": [
        {
          "output_type": "stream",
          "text": [
            "[[ 1. -1.]\n",
            " [-1.  1.]]\n"
          ],
          "name": "stdout"
        }
      ]
    },
    {
      "cell_type": "code",
      "metadata": {
        "colab": {
          "base_uri": "https://localhost:8080/"
        },
        "id": "6wWCO4WiJl_1",
        "outputId": "dbe0e4ca-8874-4d78-81cb-8d55d6cf8247"
      },
      "source": [
        "import numpy as np\n",
        "arr1 = np.array([0, 1, 2])\n",
        "arr2 = np.array([2, 1, 0])\n",
        "mat = np.cov(arr1,arr2)\n",
        "print(mat)"
      ],
      "execution_count": null,
      "outputs": [
        {
          "output_type": "stream",
          "text": [
            "[[ 1. -1.]\n",
            " [-1.  1.]]\n"
          ],
          "name": "stdout"
        }
      ]
    },
    {
      "cell_type": "markdown",
      "metadata": {
        "id": "8vnmtsxLJ2g5"
      },
      "source": [
        "#Exercice07\n",
        "Question: Écrivez un programme qui calcule et imprime la valeur selon la formule donnée: Q = Racine carrée de [(2 * C * D) / H] \n",
        "\n",
        "Voici les valeurs fixes de C et H: C est 50. H est 30. \n",
        "\n",
        "D est la variable dont les valeurs doivent être entrées dans votre programme dans une séquence séparée par des virgules. (cela signifie que D contient plus que la valeur)\n",
        "\n",
        "Exemple Supposons que la séquence d'entrée séparée par des virgules soit donnée au programme: 100,150,180 La sortie du programme doit être: 18,22,24 \n",
        "\n",
        "Pour mieux comprendre, nous obtiendrons un résultat pour chaque valeur de D: Q1 = Racine carrée de [(2 * C * 100) / H] = 18, Q2 = Racine carrée de [(2 * C * 150) / H] = 22 et Q3 = Racine carrée de [(2 * C * 180) / H] = 24\n",
        "\n",
        "Conseils: si la sortie reçue est sous forme décimale, elle doit être arrondie à sa valeur la plus proche (par exemple, si la sortie reçue est 26,0, elle doit être imprimée comme 26). doit être supposé être une entrée de console. "
      ]
    },
    {
      "cell_type": "code",
      "metadata": {
        "colab": {
          "base_uri": "https://localhost:8080/"
        },
        "id": "s6cE9NgYJ_2k",
        "outputId": "17558013-96bc-4dd8-dbdb-4b3524150666"
      },
      "source": [
        "import math\n",
        "C = int(50)\n",
        "H = int(30)\n",
        "D = 100,150,180\n",
        "i = 1\n",
        "for x in D:\n",
        "  print('D', i, ' = ', x)\n",
        "  Y = int((2*C*x/H))\n",
        "  Q = round(math.sqrt(Y))\n",
        "  print('Q = ',Q)\n",
        "  i += 1"
      ],
      "execution_count": null,
      "outputs": [
        {
          "output_type": "stream",
          "text": [
            "D 1  =  100\n",
            "Q =  18\n",
            "D 2  =  150\n",
            "Q =  22\n",
            "D 3  =  180\n",
            "Q =  24\n"
          ],
          "name": "stdout"
        }
      ]
    }
  ]
}